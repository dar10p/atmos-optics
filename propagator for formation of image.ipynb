{
 "cells": [
  {
   "cell_type": "markdown",
   "metadata": {},
   "source": [
    "propagator for formation of image"
   ]
  },
  {
   "cell_type": "markdown",
   "metadata": {},
   "source": [
    "The principal code is the beam.m, that begin whit the first section"
   ]
  },
  {
   "cell_type": "code",
   "execution_count": null,
   "metadata": {},
   "outputs": [],
   "source": [
    "% display the field\n",
    "%\n",
    "L1=0.5; %side length\n",
    "M=250; %number of samples\n",
    "dx1=L1/M; %src sample interval\n",
    "x1=-L1/2:dx1:L1/2-dx1; %src coords\n",
    "y1=x1;\n",
    "lambda=0.5*10^-6; %wavelength\n",
    "k=2*pi/lambda; %wavenumber\n",
    "%w=0.051; %source half width (m) \n",
    "w=0.011 % for  Fraunhofer\n",
    "w1=1e-3; %for circular case\n",
    "z=2000; %propagation dist (m) % 50 for circulr case Fraunhofer\n",
    "\n",
    "\n",
    "[X1,Y1]=meshgrid(x1,y1);\n",
    "uin=(rectangularPulse(-1/2,1/2,(X1/(2*w)))).*(rectangularPulse(-1/2,1/2,(Y1/(2*w)))); %src field\n",
    "%uin=circshift(sqrt(X1.^2+Y1.^2)/w1.*exp(i.*2*pi*w1),2)\n",
    "Iin=abs(uin.^2); %src irradiance\n",
    "%\n",
    "figure(1)\n",
    "imagesc(x1,y1,Iin);\n",
    "axis square; axis xy;\n",
    "colormap('gray'); xlabel('x (m)'); ylabel('y (m)');\n",
    "title('z= 0 m');"
   ]
  },
  {
   "cell_type": "markdown",
   "metadata": {},
   "source": [
    "Displey the parameters for your field whit the pupil. The simple example is the a rectangular pupil"
   ]
  },
  {
   "cell_type": "markdown",
   "metadata": {},
   "source": [
    "<img src=\"example rectangular beam.jpg\"> "
   ]
  },
  {
   "cell_type": "markdown",
   "metadata": {},
   "source": [
    "The next section is about aberrations for the field inside, is the reazon that you need apply before\n",
    "the propagators, the first is the tilt"
   ]
  },
  {
   "cell_type": "code",
   "execution_count": null,
   "metadata": {},
   "outputs": [],
   "source": [
    "%apply tilt \n",
    "deg=pi/180;\n",
    "alpha=5.0e-5; %rad\n",
    "theta=45*deg;\n",
    "[uin]=tilt(uin,L1,lambda,alpha,theta);"
   ]
  },
  {
   "cell_type": "markdown",
   "metadata": {},
   "source": [
    "Then if you aplly the seccion of propagator, por example the Transference function, the intensity of outside is"
   ]
  },
  {
   "cell_type": "code",
   "execution_count": null,
   "metadata": {},
   "outputs": [],
   "source": [
    "%%\n",
    "% Propagator\n",
    "uout=propTF(uin,L1,lambda,z); % Transference function\n",
    "%uout=propIR(uin,L1,lambda,z); % Fresnel Impulse response\n",
    "x2=x1; %obs coords\n",
    "y2=y1;\n",
    "\n",
    "Iout=abs(uout.^2); %obs irrad "
   ]
  },
  {
   "cell_type": "markdown",
   "metadata": {},
   "source": [
    "<img src=\"aplly tilt.jpg\">"
   ]
  },
  {
   "cell_type": "markdown",
   "metadata": {},
   "source": [
    "Otherwise if aplly the focus"
   ]
  },
  {
   "cell_type": "code",
   "execution_count": null,
   "metadata": {},
   "outputs": [],
   "source": [
    "\n",
    "%%\n",
    "%apply focus \n",
    "zf=2000;\n",
    "[uin]=focus(uin,L1,lambda,zf);"
   ]
  },
  {
   "cell_type": "markdown",
   "metadata": {},
   "source": [
    "Then if you aplly the seccion of propagator, por example the Fresnel Impulse response, \n",
    "the intensity of outside is"
   ]
  },
  {
   "cell_type": "code",
   "execution_count": null,
   "metadata": {},
   "outputs": [],
   "source": [
    "%%\n",
    "% Propagator\n",
    "%uout=propTF(uin,L1,lambda,z); % Transference function\n",
    "uout=propIR(uin,L1,lambda,z); % Fresnel Impulse response\n",
    "x2=x1; %obs coords\n",
    "y2=y1;\n",
    "\n",
    "Iout=abs(uout.^2); %obs irrad "
   ]
  },
  {
   "cell_type": "markdown",
   "metadata": {},
   "source": [
    "<img src=\"aplly focus.jpg\">"
   ]
  },
  {
   "cell_type": "markdown",
   "metadata": {},
   "source": [
    "Obs; the section Propagator you have the choise the propagator puting % in the propagator.\n",
    "\n",
    "For the propagator Fresnel Impulse response, whitout the tilt or focus, you can see in the first imagen the irradiance profile, then the field magnitude and finally the field phase for the field outside owing to propogator. \n"
   ]
  },
  {
   "cell_type": "markdown",
   "metadata": {},
   "source": [
    "<img src=\"3.jpg\">"
   ]
  },
  {
   "cell_type": "markdown",
   "metadata": {},
   "source": [
    "<img src=\"4.jpg\">"
   ]
  },
  {
   "cell_type": "markdown",
   "metadata": {},
   "source": [
    "<img src=\"5.jpg\">"
   ]
  }
 ],
 "metadata": {
  "kernelspec": {
   "display_name": "Python 3",
   "language": "python",
   "name": "python3"
  },
  "language_info": {
   "codemirror_mode": {
    "name": "ipython",
    "version": 3
   },
   "file_extension": ".py",
   "mimetype": "text/x-python",
   "name": "python",
   "nbconvert_exporter": "python",
   "pygments_lexer": "ipython3",
   "version": "3.8.3"
  }
 },
 "nbformat": 4,
 "nbformat_minor": 4
}
